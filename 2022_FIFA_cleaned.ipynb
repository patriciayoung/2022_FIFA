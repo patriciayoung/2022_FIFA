{
 "cells": [
  {
   "cell_type": "code",
   "execution_count": 1,
   "id": "00112011",
   "metadata": {},
   "outputs": [],
   "source": [
    "#import dependecies\n",
    "import pandas as pd\n",
    "from pathlib import Path\n",
    "import polars as pl\n",
    "import re"
   ]
  },
  {
   "cell_type": "code",
   "execution_count": 2,
   "id": "0674f4eb",
   "metadata": {},
   "outputs": [],
   "source": [
    "df1= pd.read_csv(\"player_possession.csv\")\n",
    "df2 = pd.read_csv(\"player_shooting.csv\")\n",
    "df3 = pd.read_csv(\"player_passing.csv\")\n",
    "df4 = pd.read_csv(\"player_defense.csv\")"
   ]
  },
  {
   "cell_type": "code",
   "execution_count": 3,
   "id": "a2efc93a",
   "metadata": {},
   "outputs": [],
   "source": [
    "# Right after import, drop repeated columns from data frames to prevent duplicating upon merge.\n",
    "df4 = df4.drop(columns=['age', 'team','position','minutes_90s','birth_year'])"
   ]
  },
  {
   "cell_type": "code",
   "execution_count": 4,
   "id": "eb29502b",
   "metadata": {
    "scrolled": true
   },
   "outputs": [],
   "source": [
    "#Merge columns together using 'pd.merge'\n",
    "merged_df = pd.merge(df1,df2,how='inner',left_on='player',right_on='player')\n",
    "merged_df = pd.merge(merged_df,df3,how='inner',left_on='player',right_on='player')\n",
    "merged_df = pd.merge(merged_df,df4,how='inner',left_on='player',right_on='player')"
   ]
  },
  {
   "cell_type": "code",
   "execution_count": 6,
   "id": "8d01f128",
   "metadata": {},
   "outputs": [],
   "source": [
    "#Drop unnecessary columns\n",
    "columns_to_drop = ['minutes_90s','touches_def_pen_area','touches_def_3rd','touches_mid_3rd','touches_att_3rd','touches_att_pen_area',\n",
    "                  'touches_live_ball','dribbles','dribbles_completed_pct','miscontrols', 'dispossessed', 'passes_received','progressive_passes_received',\n",
    "                  'shots_on_target_pct', 'shots_per90', 'shots_on_target_per90','shots_on_target_pct','shots_per90',\n",
    "                  'goals_per_shot_on_target','average_shot_distance','passes_pct', 'passes_total_distance', 'passes_progressive_distance',\n",
    "                  'passes_completed_short', 'passes_short', 'passes_pct_short','passes_completed_medium', 'passes_medium', 'passes_pct_medium','passes_completed_long', 'passes_long', 'passes_pct_long',\n",
    "                  'xg_assist', 'pass_xa', 'xg_assist_net', 'assisted_shots','passes_into_final_third', 'passes_into_penalty_area','crosses_into_penalty_area', 'progressive_passes','tackles_def_3rd', 'tackles_mid_3rd', 'tackles_att_3rd'\n",
    "                  ]\n",
    "df_dropped = merged_df.drop(columns_to_drop, axis=1)\n",
    "\n"
   ]
  },
  {
   "cell_type": "code",
   "execution_count": 8,
   "id": "8c380de6",
   "metadata": {},
   "outputs": [],
   "source": [
    "#Drop unnecessary columns\n",
    "columns_2_drop = ['birth_year_y','minutes_90s_y','shots_free_kicks','pens_made','pens_att', 'xg', 'npxg', 'npxg_per_shot', 'xg_net', 'npxg_net',\n",
    "                  'tackles', 'dribble_tackles', 'dribbles_vs',\n",
    "                  'dribble_tackles_pct', 'dribbled_past', 'blocks', 'blocked_shots',\n",
    "                  'blocked_passes', 'interceptions', 'tackles_interceptions','clearances', 'errors','birth_year',\n",
    "                 'position','team', 'age','team', 'age','age_y','goals_per_shot','position_y','team_y','minutes_90s_x','birth_year_x']\n",
    "data_df = df_dropped.drop(columns_2_drop, axis=1)\n"
   ]
  },
  {
   "cell_type": "code",
   "execution_count": 9,
   "id": "05ec7ae2",
   "metadata": {},
   "outputs": [
    {
     "data": {
      "text/plain": [
       "player                 object\n",
       "position_x             object\n",
       "team_x                 object\n",
       "age_x                  object\n",
       "touches               float64\n",
       "dribbles_completed    float64\n",
       "goals                   int64\n",
       "shots                   int64\n",
       "shots_on_target         int64\n",
       "passes_completed      float64\n",
       "passes                float64\n",
       "assists                 int64\n",
       "tackles_won             int64\n",
       "dtype: object"
      ]
     },
     "execution_count": 9,
     "metadata": {},
     "output_type": "execute_result"
    }
   ],
   "source": [
    "data_df.dtypes"
   ]
  },
  {
   "cell_type": "code",
   "execution_count": 28,
   "id": "3bebd106",
   "metadata": {
    "scrolled": true
   },
   "outputs": [
    {
     "data": {
      "text/html": [
       "<div>\n",
       "<style scoped>\n",
       "    .dataframe tbody tr th:only-of-type {\n",
       "        vertical-align: middle;\n",
       "    }\n",
       "\n",
       "    .dataframe tbody tr th {\n",
       "        vertical-align: top;\n",
       "    }\n",
       "\n",
       "    .dataframe thead th {\n",
       "        text-align: right;\n",
       "    }\n",
       "</style>\n",
       "<table border=\"1\" class=\"dataframe\">\n",
       "  <thead>\n",
       "    <tr style=\"text-align: right;\">\n",
       "      <th></th>\n",
       "      <th>player</th>\n",
       "      <th>position_x</th>\n",
       "      <th>team_x</th>\n",
       "      <th>age_x</th>\n",
       "      <th>touches</th>\n",
       "      <th>dribbles_completed</th>\n",
       "      <th>goals</th>\n",
       "      <th>shots</th>\n",
       "      <th>shots_on_target</th>\n",
       "      <th>passes_completed</th>\n",
       "      <th>passes</th>\n",
       "      <th>assists</th>\n",
       "      <th>tackles_won</th>\n",
       "    </tr>\n",
       "  </thead>\n",
       "  <tbody>\n",
       "    <tr>\n",
       "      <th>0</th>\n",
       "      <td>Aaron Mooy</td>\n",
       "      <td>MF</td>\n",
       "      <td>Australia</td>\n",
       "      <td>32-094</td>\n",
       "      <td>255.0</td>\n",
       "      <td>2.0</td>\n",
       "      <td>0</td>\n",
       "      <td>1</td>\n",
       "      <td>0</td>\n",
       "      <td>170.0</td>\n",
       "      <td>217.0</td>\n",
       "      <td>0</td>\n",
       "      <td>6</td>\n",
       "    </tr>\n",
       "    <tr>\n",
       "      <th>1</th>\n",
       "      <td>Aaron Ramsey</td>\n",
       "      <td>MF</td>\n",
       "      <td>Wales</td>\n",
       "      <td>31-357</td>\n",
       "      <td>147.0</td>\n",
       "      <td>2.0</td>\n",
       "      <td>0</td>\n",
       "      <td>1</td>\n",
       "      <td>0</td>\n",
       "      <td>88.0</td>\n",
       "      <td>112.0</td>\n",
       "      <td>0</td>\n",
       "      <td>0</td>\n",
       "    </tr>\n",
       "    <tr>\n",
       "      <th>2</th>\n",
       "      <td>Abdelhamid Sabiri</td>\n",
       "      <td>MF</td>\n",
       "      <td>Morocco</td>\n",
       "      <td>26-020</td>\n",
       "      <td>86.0</td>\n",
       "      <td>0.0</td>\n",
       "      <td>0</td>\n",
       "      <td>3</td>\n",
       "      <td>0</td>\n",
       "      <td>45.0</td>\n",
       "      <td>58.0</td>\n",
       "      <td>1</td>\n",
       "      <td>1</td>\n",
       "    </tr>\n",
       "    <tr>\n",
       "      <th>3</th>\n",
       "      <td>Abdelkarim Hassan</td>\n",
       "      <td>DF</td>\n",
       "      <td>Qatar</td>\n",
       "      <td>29-112</td>\n",
       "      <td>193.0</td>\n",
       "      <td>1.0</td>\n",
       "      <td>0</td>\n",
       "      <td>6</td>\n",
       "      <td>0</td>\n",
       "      <td>122.0</td>\n",
       "      <td>161.0</td>\n",
       "      <td>0</td>\n",
       "      <td>3</td>\n",
       "    </tr>\n",
       "    <tr>\n",
       "      <th>4</th>\n",
       "      <td>Abderrazak Hamdallah</td>\n",
       "      <td>FW</td>\n",
       "      <td>Morocco</td>\n",
       "      <td>32-001</td>\n",
       "      <td>28.0</td>\n",
       "      <td>2.0</td>\n",
       "      <td>0</td>\n",
       "      <td>2</td>\n",
       "      <td>1</td>\n",
       "      <td>8.0</td>\n",
       "      <td>15.0</td>\n",
       "      <td>0</td>\n",
       "      <td>0</td>\n",
       "    </tr>\n",
       "    <tr>\n",
       "      <th>...</th>\n",
       "      <td>...</td>\n",
       "      <td>...</td>\n",
       "      <td>...</td>\n",
       "      <td>...</td>\n",
       "      <td>...</td>\n",
       "      <td>...</td>\n",
       "      <td>...</td>\n",
       "      <td>...</td>\n",
       "      <td>...</td>\n",
       "      <td>...</td>\n",
       "      <td>...</td>\n",
       "      <td>...</td>\n",
       "      <td>...</td>\n",
       "    </tr>\n",
       "    <tr>\n",
       "      <th>675</th>\n",
       "      <td>Ángel Di María</td>\n",
       "      <td>MF</td>\n",
       "      <td>Argentina</td>\n",
       "      <td>34-307</td>\n",
       "      <td>201.0</td>\n",
       "      <td>13.0</td>\n",
       "      <td>1</td>\n",
       "      <td>6</td>\n",
       "      <td>3</td>\n",
       "      <td>130.0</td>\n",
       "      <td>168.0</td>\n",
       "      <td>1</td>\n",
       "      <td>1</td>\n",
       "    </tr>\n",
       "    <tr>\n",
       "      <th>676</th>\n",
       "      <td>Ángelo Preciado</td>\n",
       "      <td>DF</td>\n",
       "      <td>Ecuador</td>\n",
       "      <td>24-303</td>\n",
       "      <td>162.0</td>\n",
       "      <td>0.0</td>\n",
       "      <td>0</td>\n",
       "      <td>4</td>\n",
       "      <td>0</td>\n",
       "      <td>94.0</td>\n",
       "      <td>129.0</td>\n",
       "      <td>1</td>\n",
       "      <td>5</td>\n",
       "    </tr>\n",
       "    <tr>\n",
       "      <th>677</th>\n",
       "      <td>Éder Militão</td>\n",
       "      <td>DF</td>\n",
       "      <td>Brazil</td>\n",
       "      <td>24-334</td>\n",
       "      <td>306.0</td>\n",
       "      <td>0.0</td>\n",
       "      <td>0</td>\n",
       "      <td>5</td>\n",
       "      <td>1</td>\n",
       "      <td>251.0</td>\n",
       "      <td>277.0</td>\n",
       "      <td>0</td>\n",
       "      <td>6</td>\n",
       "    </tr>\n",
       "    <tr>\n",
       "      <th>678</th>\n",
       "      <td>Óscar Duarte</td>\n",
       "      <td>DF</td>\n",
       "      <td>Costa Rica</td>\n",
       "      <td>33-198</td>\n",
       "      <td>132.0</td>\n",
       "      <td>0.0</td>\n",
       "      <td>0</td>\n",
       "      <td>0</td>\n",
       "      <td>0</td>\n",
       "      <td>68.0</td>\n",
       "      <td>98.0</td>\n",
       "      <td>0</td>\n",
       "      <td>2</td>\n",
       "    </tr>\n",
       "    <tr>\n",
       "      <th>679</th>\n",
       "      <td>İlkay Gündoğan</td>\n",
       "      <td>MF</td>\n",
       "      <td>Germany</td>\n",
       "      <td>32-055</td>\n",
       "      <td>187.0</td>\n",
       "      <td>2.0</td>\n",
       "      <td>1</td>\n",
       "      <td>5</td>\n",
       "      <td>2</td>\n",
       "      <td>150.0</td>\n",
       "      <td>168.0</td>\n",
       "      <td>0</td>\n",
       "      <td>1</td>\n",
       "    </tr>\n",
       "  </tbody>\n",
       "</table>\n",
       "<p>680 rows × 13 columns</p>\n",
       "</div>"
      ],
      "text/plain": [
       "                   player position_x      team_x   age_x  touches  \\\n",
       "0              Aaron Mooy         MF   Australia  32-094    255.0   \n",
       "1            Aaron Ramsey         MF       Wales  31-357    147.0   \n",
       "2       Abdelhamid Sabiri         MF     Morocco  26-020     86.0   \n",
       "3       Abdelkarim Hassan         DF       Qatar  29-112    193.0   \n",
       "4    Abderrazak Hamdallah         FW     Morocco  32-001     28.0   \n",
       "..                    ...        ...         ...     ...      ...   \n",
       "675        Ángel Di María         MF   Argentina  34-307    201.0   \n",
       "676       Ángelo Preciado         DF     Ecuador  24-303    162.0   \n",
       "677          Éder Militão         DF      Brazil  24-334    306.0   \n",
       "678          Óscar Duarte         DF  Costa Rica  33-198    132.0   \n",
       "679        İlkay Gündoğan         MF     Germany  32-055    187.0   \n",
       "\n",
       "     dribbles_completed  goals  shots  shots_on_target  passes_completed  \\\n",
       "0                   2.0      0      1                0             170.0   \n",
       "1                   2.0      0      1                0              88.0   \n",
       "2                   0.0      0      3                0              45.0   \n",
       "3                   1.0      0      6                0             122.0   \n",
       "4                   2.0      0      2                1               8.0   \n",
       "..                  ...    ...    ...              ...               ...   \n",
       "675                13.0      1      6                3             130.0   \n",
       "676                 0.0      0      4                0              94.0   \n",
       "677                 0.0      0      5                1             251.0   \n",
       "678                 0.0      0      0                0              68.0   \n",
       "679                 2.0      1      5                2             150.0   \n",
       "\n",
       "     passes  assists  tackles_won  \n",
       "0     217.0        0            6  \n",
       "1     112.0        0            0  \n",
       "2      58.0        1            1  \n",
       "3     161.0        0            3  \n",
       "4      15.0        0            0  \n",
       "..      ...      ...          ...  \n",
       "675   168.0        1            1  \n",
       "676   129.0        1            5  \n",
       "677   277.0        0            6  \n",
       "678    98.0        0            2  \n",
       "679   168.0        0            1  \n",
       "\n",
       "[680 rows x 13 columns]"
      ]
     },
     "execution_count": 28,
     "metadata": {},
     "output_type": "execute_result"
    }
   ],
   "source": [
    "# Display Result\n",
    "data_df"
   ]
  },
  {
   "cell_type": "code",
   "execution_count": 31,
   "id": "46da9de7",
   "metadata": {},
   "outputs": [
    {
     "name": "stdout",
     "output_type": "stream",
     "text": [
      "<class 'polars.dataframe.frame.DataFrame'>\n"
     ]
    },
    {
     "data": {
      "text/html": [
       "<div><style>\n",
       ".dataframe > thead > tr,\n",
       ".dataframe > tbody > tr {\n",
       "  text-align: right;\n",
       "  white-space: pre-wrap;\n",
       "}\n",
       "</style>\n",
       "<small>shape: (5, 13)</small><table border=\"1\" class=\"dataframe\"><thead><tr><th>player</th><th>position_x</th><th>team_x</th><th>age_x</th><th>touches</th><th>dribbles_completed</th><th>goals</th><th>shots</th><th>shots_on_target</th><th>passes_completed</th><th>passes</th><th>assists</th><th>tackles_won</th></tr><tr><td>str</td><td>str</td><td>str</td><td>str</td><td>f64</td><td>f64</td><td>i64</td><td>i64</td><td>i64</td><td>f64</td><td>f64</td><td>i64</td><td>i64</td></tr></thead><tbody><tr><td>&quot;Aaron Mooy&quot;</td><td>&quot;MF&quot;</td><td>&quot;Australia&quot;</td><td>&quot;32-094&quot;</td><td>255.0</td><td>2.0</td><td>0</td><td>1</td><td>0</td><td>170.0</td><td>217.0</td><td>0</td><td>6</td></tr><tr><td>&quot;Aaron Ramsey&quot;</td><td>&quot;MF&quot;</td><td>&quot;Wales&quot;</td><td>&quot;31-357&quot;</td><td>147.0</td><td>2.0</td><td>0</td><td>1</td><td>0</td><td>88.0</td><td>112.0</td><td>0</td><td>0</td></tr><tr><td>&quot;Abdelhamid Sab…</td><td>&quot;MF&quot;</td><td>&quot;Morocco&quot;</td><td>&quot;26-020&quot;</td><td>86.0</td><td>0.0</td><td>0</td><td>3</td><td>0</td><td>45.0</td><td>58.0</td><td>1</td><td>1</td></tr><tr><td>&quot;Abdelkarim Has…</td><td>&quot;DF&quot;</td><td>&quot;Qatar&quot;</td><td>&quot;29-112&quot;</td><td>193.0</td><td>1.0</td><td>0</td><td>6</td><td>0</td><td>122.0</td><td>161.0</td><td>0</td><td>3</td></tr><tr><td>&quot;Abderrazak Ham…</td><td>&quot;FW&quot;</td><td>&quot;Morocco&quot;</td><td>&quot;32-001&quot;</td><td>28.0</td><td>2.0</td><td>0</td><td>2</td><td>1</td><td>8.0</td><td>15.0</td><td>0</td><td>0</td></tr></tbody></table></div>"
      ],
      "text/plain": [
       "shape: (5, 13)\n",
       "┌─────────────┬────────────┬───────────┬────────┬───┬─────────────┬────────┬─────────┬─────────────┐\n",
       "│ player      ┆ position_x ┆ team_x    ┆ age_x  ┆ … ┆ passes_comp ┆ passes ┆ assists ┆ tackles_won │\n",
       "│ ---         ┆ ---        ┆ ---       ┆ ---    ┆   ┆ leted       ┆ ---    ┆ ---     ┆ ---         │\n",
       "│ str         ┆ str        ┆ str       ┆ str    ┆   ┆ ---         ┆ f64    ┆ i64     ┆ i64         │\n",
       "│             ┆            ┆           ┆        ┆   ┆ f64         ┆        ┆         ┆             │\n",
       "╞═════════════╪════════════╪═══════════╪════════╪═══╪═════════════╪════════╪═════════╪═════════════╡\n",
       "│ Aaron Mooy  ┆ MF         ┆ Australia ┆ 32-094 ┆ … ┆ 170.0       ┆ 217.0  ┆ 0       ┆ 6           │\n",
       "│ Aaron       ┆ MF         ┆ Wales     ┆ 31-357 ┆ … ┆ 88.0        ┆ 112.0  ┆ 0       ┆ 0           │\n",
       "│ Ramsey      ┆            ┆           ┆        ┆   ┆             ┆        ┆         ┆             │\n",
       "│ Abdelhamid  ┆ MF         ┆ Morocco   ┆ 26-020 ┆ … ┆ 45.0        ┆ 58.0   ┆ 1       ┆ 1           │\n",
       "│ Sabiri      ┆            ┆           ┆        ┆   ┆             ┆        ┆         ┆             │\n",
       "│ Abdelkarim  ┆ DF         ┆ Qatar     ┆ 29-112 ┆ … ┆ 122.0       ┆ 161.0  ┆ 0       ┆ 3           │\n",
       "│ Hassan      ┆            ┆           ┆        ┆   ┆             ┆        ┆         ┆             │\n",
       "│ Abderrazak  ┆ FW         ┆ Morocco   ┆ 32-001 ┆ … ┆ 8.0         ┆ 15.0   ┆ 0       ┆ 0           │\n",
       "│ Hamdallah   ┆            ┆           ┆        ┆   ┆             ┆        ┆         ┆             │\n",
       "└─────────────┴────────────┴───────────┴────────┴───┴─────────────┴────────┴─────────┴─────────────┘"
      ]
     },
     "execution_count": 31,
     "metadata": {},
     "output_type": "execute_result"
    }
   ],
   "source": [
    "# Create a Polars DataFrame\n",
    "df = pl.DataFrame(data_df)\n",
    "print(type(df))\n",
    "df.head()"
   ]
  },
  {
   "cell_type": "code",
   "execution_count": 12,
   "id": "3aa80ca4",
   "metadata": {},
   "outputs": [
    {
     "data": {
      "text/html": [
       "<div><style>\n",
       ".dataframe > thead > tr,\n",
       ".dataframe > tbody > tr {\n",
       "  text-align: right;\n",
       "  white-space: pre-wrap;\n",
       "}\n",
       "</style>\n",
       "<small>shape: (5, 13)</small><table border=\"1\" class=\"dataframe\"><thead><tr><th>player</th><th>position</th><th>team</th><th>age</th><th>touches</th><th>dribbles_completed</th><th>goals</th><th>shots</th><th>shots_on_target</th><th>passes_completed</th><th>passes</th><th>assists</th><th>tackles_won</th></tr><tr><td>str</td><td>str</td><td>str</td><td>str</td><td>f64</td><td>f64</td><td>i64</td><td>i64</td><td>i64</td><td>f64</td><td>f64</td><td>i64</td><td>i64</td></tr></thead><tbody><tr><td>&quot;Aaron Mooy&quot;</td><td>&quot;MF&quot;</td><td>&quot;Australia&quot;</td><td>&quot;32-094&quot;</td><td>255.0</td><td>2.0</td><td>0</td><td>1</td><td>0</td><td>170.0</td><td>217.0</td><td>0</td><td>6</td></tr><tr><td>&quot;Aaron Ramsey&quot;</td><td>&quot;MF&quot;</td><td>&quot;Wales&quot;</td><td>&quot;31-357&quot;</td><td>147.0</td><td>2.0</td><td>0</td><td>1</td><td>0</td><td>88.0</td><td>112.0</td><td>0</td><td>0</td></tr><tr><td>&quot;Abdelhamid Sab…</td><td>&quot;MF&quot;</td><td>&quot;Morocco&quot;</td><td>&quot;26-020&quot;</td><td>86.0</td><td>0.0</td><td>0</td><td>3</td><td>0</td><td>45.0</td><td>58.0</td><td>1</td><td>1</td></tr><tr><td>&quot;Abdelkarim Has…</td><td>&quot;DF&quot;</td><td>&quot;Qatar&quot;</td><td>&quot;29-112&quot;</td><td>193.0</td><td>1.0</td><td>0</td><td>6</td><td>0</td><td>122.0</td><td>161.0</td><td>0</td><td>3</td></tr><tr><td>&quot;Abderrazak Ham…</td><td>&quot;FW&quot;</td><td>&quot;Morocco&quot;</td><td>&quot;32-001&quot;</td><td>28.0</td><td>2.0</td><td>0</td><td>2</td><td>1</td><td>8.0</td><td>15.0</td><td>0</td><td>0</td></tr></tbody></table></div>"
      ],
      "text/plain": [
       "shape: (5, 13)\n",
       "┌──────────────┬──────────┬───────────┬────────┬───┬──────────────┬────────┬─────────┬─────────────┐\n",
       "│ player       ┆ position ┆ team      ┆ age    ┆ … ┆ passes_compl ┆ passes ┆ assists ┆ tackles_won │\n",
       "│ ---          ┆ ---      ┆ ---       ┆ ---    ┆   ┆ eted         ┆ ---    ┆ ---     ┆ ---         │\n",
       "│ str          ┆ str      ┆ str       ┆ str    ┆   ┆ ---          ┆ f64    ┆ i64     ┆ i64         │\n",
       "│              ┆          ┆           ┆        ┆   ┆ f64          ┆        ┆         ┆             │\n",
       "╞══════════════╪══════════╪═══════════╪════════╪═══╪══════════════╪════════╪═════════╪═════════════╡\n",
       "│ Aaron Mooy   ┆ MF       ┆ Australia ┆ 32-094 ┆ … ┆ 170.0        ┆ 217.0  ┆ 0       ┆ 6           │\n",
       "│ Aaron Ramsey ┆ MF       ┆ Wales     ┆ 31-357 ┆ … ┆ 88.0         ┆ 112.0  ┆ 0       ┆ 0           │\n",
       "│ Abdelhamid   ┆ MF       ┆ Morocco   ┆ 26-020 ┆ … ┆ 45.0         ┆ 58.0   ┆ 1       ┆ 1           │\n",
       "│ Sabiri       ┆          ┆           ┆        ┆   ┆              ┆        ┆         ┆             │\n",
       "│ Abdelkarim   ┆ DF       ┆ Qatar     ┆ 29-112 ┆ … ┆ 122.0        ┆ 161.0  ┆ 0       ┆ 3           │\n",
       "│ Hassan       ┆          ┆           ┆        ┆   ┆              ┆        ┆         ┆             │\n",
       "│ Abderrazak   ┆ FW       ┆ Morocco   ┆ 32-001 ┆ … ┆ 8.0          ┆ 15.0   ┆ 0       ┆ 0           │\n",
       "│ Hamdallah    ┆          ┆           ┆        ┆   ┆              ┆        ┆         ┆             │\n",
       "└──────────────┴──────────┴───────────┴────────┴───┴──────────────┴────────┴─────────┴─────────────┘"
      ]
     },
     "execution_count": 12,
     "metadata": {},
     "output_type": "execute_result"
    }
   ],
   "source": [
    "# Rename the columns\n",
    "new_column_names = {\n",
    "    'position_x': 'position',\n",
    "    'age_x': 'age',\n",
    "    'team_x': 'team'\n",
    "}\n",
    "\n",
    "df_renamed = df.rename(new_column_names)\n",
    "\n",
    "# Display the result\n",
    "df_renamed.head()"
   ]
  },
  {
   "cell_type": "code",
   "execution_count": 13,
   "id": "2213f6a7",
   "metadata": {},
   "outputs": [
    {
     "data": {
      "text/html": [
       "<div><style>\n",
       ".dataframe > thead > tr,\n",
       ".dataframe > tbody > tr {\n",
       "  text-align: right;\n",
       "  white-space: pre-wrap;\n",
       "}\n",
       "</style>\n",
       "<small>shape: (5, 13)</small><table border=\"1\" class=\"dataframe\"><thead><tr><th>player</th><th>position</th><th>team</th><th>age</th><th>touches</th><th>dribbles_completed</th><th>goals</th><th>shots</th><th>shots_on_target</th><th>passes_completed</th><th>passes</th><th>assists</th><th>tackles_won</th></tr><tr><td>str</td><td>str</td><td>str</td><td>str</td><td>f64</td><td>f64</td><td>i64</td><td>i64</td><td>i64</td><td>f64</td><td>f64</td><td>i64</td><td>i64</td></tr></thead><tbody><tr><td>&quot;Aaron Mooy&quot;</td><td>&quot;MF&quot;</td><td>&quot;Australia&quot;</td><td>&quot;32&quot;</td><td>255.0</td><td>2.0</td><td>0</td><td>1</td><td>0</td><td>170.0</td><td>217.0</td><td>0</td><td>6</td></tr><tr><td>&quot;Aaron Ramsey&quot;</td><td>&quot;MF&quot;</td><td>&quot;Wales&quot;</td><td>&quot;31&quot;</td><td>147.0</td><td>2.0</td><td>0</td><td>1</td><td>0</td><td>88.0</td><td>112.0</td><td>0</td><td>0</td></tr><tr><td>&quot;Abdelhamid Sab…</td><td>&quot;MF&quot;</td><td>&quot;Morocco&quot;</td><td>&quot;26&quot;</td><td>86.0</td><td>0.0</td><td>0</td><td>3</td><td>0</td><td>45.0</td><td>58.0</td><td>1</td><td>1</td></tr><tr><td>&quot;Abdelkarim Has…</td><td>&quot;DF&quot;</td><td>&quot;Qatar&quot;</td><td>&quot;29&quot;</td><td>193.0</td><td>1.0</td><td>0</td><td>6</td><td>0</td><td>122.0</td><td>161.0</td><td>0</td><td>3</td></tr><tr><td>&quot;Abderrazak Ham…</td><td>&quot;FW&quot;</td><td>&quot;Morocco&quot;</td><td>&quot;32&quot;</td><td>28.0</td><td>2.0</td><td>0</td><td>2</td><td>1</td><td>8.0</td><td>15.0</td><td>0</td><td>0</td></tr></tbody></table></div>"
      ],
      "text/plain": [
       "shape: (5, 13)\n",
       "┌────────────────┬──────────┬───────────┬─────┬───┬───────────────┬────────┬─────────┬─────────────┐\n",
       "│ player         ┆ position ┆ team      ┆ age ┆ … ┆ passes_comple ┆ passes ┆ assists ┆ tackles_won │\n",
       "│ ---            ┆ ---      ┆ ---       ┆ --- ┆   ┆ ted           ┆ ---    ┆ ---     ┆ ---         │\n",
       "│ str            ┆ str      ┆ str       ┆ str ┆   ┆ ---           ┆ f64    ┆ i64     ┆ i64         │\n",
       "│                ┆          ┆           ┆     ┆   ┆ f64           ┆        ┆         ┆             │\n",
       "╞════════════════╪══════════╪═══════════╪═════╪═══╪═══════════════╪════════╪═════════╪═════════════╡\n",
       "│ Aaron Mooy     ┆ MF       ┆ Australia ┆ 32  ┆ … ┆ 170.0         ┆ 217.0  ┆ 0       ┆ 6           │\n",
       "│ Aaron Ramsey   ┆ MF       ┆ Wales     ┆ 31  ┆ … ┆ 88.0          ┆ 112.0  ┆ 0       ┆ 0           │\n",
       "│ Abdelhamid     ┆ MF       ┆ Morocco   ┆ 26  ┆ … ┆ 45.0          ┆ 58.0   ┆ 1       ┆ 1           │\n",
       "│ Sabiri         ┆          ┆           ┆     ┆   ┆               ┆        ┆         ┆             │\n",
       "│ Abdelkarim     ┆ DF       ┆ Qatar     ┆ 29  ┆ … ┆ 122.0         ┆ 161.0  ┆ 0       ┆ 3           │\n",
       "│ Hassan         ┆          ┆           ┆     ┆   ┆               ┆        ┆         ┆             │\n",
       "│ Abderrazak     ┆ FW       ┆ Morocco   ┆ 32  ┆ … ┆ 8.0           ┆ 15.0   ┆ 0       ┆ 0           │\n",
       "│ Hamdallah      ┆          ┆           ┆     ┆   ┆               ┆        ┆         ┆             │\n",
       "└────────────────┴──────────┴───────────┴─────┴───┴───────────────┴────────┴─────────┴─────────────┘"
      ]
     },
     "execution_count": 13,
     "metadata": {},
     "output_type": "execute_result"
    }
   ],
   "source": [
    "# Drop unnecesary values from columns\n",
    "\n",
    "df_5 = df_renamed.with_columns(pl.col('age').map_elements(lambda value:\n",
    "                                                     value.split('-')[0]))\n",
    "df_5.head()"
   ]
  },
  {
   "cell_type": "code",
   "execution_count": 14,
   "id": "7002a11d",
   "metadata": {},
   "outputs": [
    {
     "data": {
      "text/html": [
       "<div><style>\n",
       ".dataframe > thead > tr,\n",
       ".dataframe > tbody > tr {\n",
       "  text-align: right;\n",
       "  white-space: pre-wrap;\n",
       "}\n",
       "</style>\n",
       "<small>shape: (5, 13)</small><table border=\"1\" class=\"dataframe\"><thead><tr><th>player</th><th>position</th><th>team</th><th>age</th><th>touches</th><th>dribbles_completed</th><th>goals</th><th>shots</th><th>shots_on_target</th><th>passes_completed</th><th>passes</th><th>assists</th><th>tackles_won</th></tr><tr><td>str</td><td>str</td><td>str</td><td>i64</td><td>i64</td><td>i64</td><td>i64</td><td>i64</td><td>i64</td><td>i64</td><td>i64</td><td>i64</td><td>i64</td></tr></thead><tbody><tr><td>&quot;Ángel Di María…</td><td>&quot;MF&quot;</td><td>&quot;Argentina&quot;</td><td>34</td><td>201</td><td>13</td><td>1</td><td>6</td><td>3</td><td>130</td><td>168</td><td>1</td><td>1</td></tr><tr><td>&quot;Ángelo Preciad…</td><td>&quot;DF&quot;</td><td>&quot;Ecuador&quot;</td><td>24</td><td>162</td><td>0</td><td>0</td><td>4</td><td>0</td><td>94</td><td>129</td><td>1</td><td>5</td></tr><tr><td>&quot;Éder Militão&quot;</td><td>&quot;DF&quot;</td><td>&quot;Brazil&quot;</td><td>24</td><td>306</td><td>0</td><td>0</td><td>5</td><td>1</td><td>251</td><td>277</td><td>0</td><td>6</td></tr><tr><td>&quot;Óscar Duarte&quot;</td><td>&quot;DF&quot;</td><td>&quot;Costa Rica&quot;</td><td>33</td><td>132</td><td>0</td><td>0</td><td>0</td><td>0</td><td>68</td><td>98</td><td>0</td><td>2</td></tr><tr><td>&quot;İlkay Gündoğan…</td><td>&quot;MF&quot;</td><td>&quot;Germany&quot;</td><td>32</td><td>187</td><td>2</td><td>1</td><td>5</td><td>2</td><td>150</td><td>168</td><td>0</td><td>1</td></tr></tbody></table></div>"
      ],
      "text/plain": [
       "shape: (5, 13)\n",
       "┌───────────────┬──────────┬────────────┬─────┬───┬───────────────┬────────┬─────────┬─────────────┐\n",
       "│ player        ┆ position ┆ team       ┆ age ┆ … ┆ passes_comple ┆ passes ┆ assists ┆ tackles_won │\n",
       "│ ---           ┆ ---      ┆ ---        ┆ --- ┆   ┆ ted           ┆ ---    ┆ ---     ┆ ---         │\n",
       "│ str           ┆ str      ┆ str        ┆ i64 ┆   ┆ ---           ┆ i64    ┆ i64     ┆ i64         │\n",
       "│               ┆          ┆            ┆     ┆   ┆ i64           ┆        ┆         ┆             │\n",
       "╞═══════════════╪══════════╪════════════╪═════╪═══╪═══════════════╪════════╪═════════╪═════════════╡\n",
       "│ Ángel Di      ┆ MF       ┆ Argentina  ┆ 34  ┆ … ┆ 130           ┆ 168    ┆ 1       ┆ 1           │\n",
       "│ María         ┆          ┆            ┆     ┆   ┆               ┆        ┆         ┆             │\n",
       "│ Ángelo        ┆ DF       ┆ Ecuador    ┆ 24  ┆ … ┆ 94            ┆ 129    ┆ 1       ┆ 5           │\n",
       "│ Preciado      ┆          ┆            ┆     ┆   ┆               ┆        ┆         ┆             │\n",
       "│ Éder Militão  ┆ DF       ┆ Brazil     ┆ 24  ┆ … ┆ 251           ┆ 277    ┆ 0       ┆ 6           │\n",
       "│ Óscar Duarte  ┆ DF       ┆ Costa Rica ┆ 33  ┆ … ┆ 68            ┆ 98     ┆ 0       ┆ 2           │\n",
       "│ İlkay         ┆ MF       ┆ Germany    ┆ 32  ┆ … ┆ 150           ┆ 168    ┆ 0       ┆ 1           │\n",
       "│ Gündoğan      ┆          ┆            ┆     ┆   ┆               ┆        ┆         ┆             │\n",
       "└───────────────┴──────────┴────────────┴─────┴───┴───────────────┴────────┴─────────┴─────────────┘"
      ]
     },
     "execution_count": 14,
     "metadata": {},
     "output_type": "execute_result"
    }
   ],
   "source": [
    "# Casting data to their corrisponding data type\n",
    "\n",
    "new_columns = df_5.with_columns(\n",
    "    pl.col(\"age\").cast(pl.Int64),\n",
    "    pl.col(\"touches\").cast(pl.Int64),\n",
    "    pl.col(\"dribbles_completed\").cast(pl.Int64),\n",
    "    pl.col(\"passes_completed\").cast(pl.Int64),\n",
    "    pl.col(\"passes\").cast(pl.Int64)\n",
    ")\n",
    "new_columns.tail()"
   ]
  },
  {
   "cell_type": "code",
   "execution_count": 15,
   "id": "44980d0d",
   "metadata": {},
   "outputs": [],
   "source": [
    "#Drop any null values in the DataFrame\n",
    "new_columns = new_columns.drop_nulls()"
   ]
  },
  {
   "cell_type": "code",
   "execution_count": 16,
   "id": "4368956c",
   "metadata": {},
   "outputs": [],
   "source": [
    "#sort values depending on ammount of goals\n",
    "final_df = new_columns.sort([\"goals\"], descending=True)"
   ]
  },
  {
   "cell_type": "code",
   "execution_count": 18,
   "id": "9ee87091",
   "metadata": {},
   "outputs": [
    {
     "data": {
      "text/html": [
       "<div><style>\n",
       ".dataframe > thead > tr,\n",
       ".dataframe > tbody > tr {\n",
       "  text-align: right;\n",
       "  white-space: pre-wrap;\n",
       "}\n",
       "</style>\n",
       "<small>shape: (680, 13)</small><table border=\"1\" class=\"dataframe\"><thead><tr><th>player</th><th>position</th><th>team</th><th>age</th><th>touches</th><th>dribbles_completed</th><th>goals</th><th>shots</th><th>shots_on_target</th><th>passes_completed</th><th>passes</th><th>assists</th><th>tackles_won</th></tr><tr><td>str</td><td>str</td><td>str</td><td>i64</td><td>i64</td><td>i64</td><td>i64</td><td>i64</td><td>i64</td><td>i64</td><td>i64</td><td>i64</td><td>i64</td></tr></thead><tbody><tr><td>&quot;Kylian Mbappé&quot;</td><td>&quot;FW&quot;</td><td>&quot;France&quot;</td><td>23</td><td>325</td><td>25</td><td>8</td><td>29</td><td>11</td><td>173</td><td>229</td><td>2</td><td>0</td></tr><tr><td>&quot;Lionel Messi&quot;</td><td>&quot;FW&quot;</td><td>&quot;Argentina&quot;</td><td>35</td><td>460</td><td>15</td><td>7</td><td>27</td><td>13</td><td>301</td><td>372</td><td>3</td><td>3</td></tr><tr><td>&quot;Julián Álvarez…</td><td>&quot;FW&quot;</td><td>&quot;Argentina&quot;</td><td>22</td><td>174</td><td>0</td><td>4</td><td>11</td><td>8</td><td>93</td><td>121</td><td>0</td><td>2</td></tr><tr><td>&quot;Olivier Giroud…</td><td>&quot;FW&quot;</td><td>&quot;France&quot;</td><td>36</td><td>111</td><td>0</td><td>4</td><td>16</td><td>6</td><td>48</td><td>74</td><td>0</td><td>0</td></tr><tr><td>&quot;Bukayo Saka&quot;</td><td>&quot;FW&quot;</td><td>&quot;England&quot;</td><td>21</td><td>147</td><td>2</td><td>3</td><td>7</td><td>5</td><td>84</td><td>108</td><td>0</td><td>4</td></tr><tr><td>&quot;Cody Gakpo&quot;</td><td>&quot;FW&quot;</td><td>&quot;Netherlands&quot;</td><td>23</td><td>205</td><td>5</td><td>3</td><td>5</td><td>3</td><td>93</td><td>148</td><td>0</td><td>2</td></tr><tr><td>&quot;Enner Valencia…</td><td>&quot;FW&quot;</td><td>&quot;Ecuador&quot;</td><td>33</td><td>98</td><td>2</td><td>3</td><td>8</td><td>3</td><td>40</td><td>57</td><td>0</td><td>0</td></tr><tr><td>&quot;Gonçalo Ramos&quot;</td><td>&quot;FW&quot;</td><td>&quot;Portugal&quot;</td><td>21</td><td>55</td><td>0</td><td>3</td><td>7</td><td>5</td><td>25</td><td>31</td><td>1</td><td>1</td></tr><tr><td>&quot;Marcus Rashfor…</td><td>&quot;FW&quot;</td><td>&quot;England&quot;</td><td>25</td><td>92</td><td>5</td><td>3</td><td>11</td><td>6</td><td>49</td><td>66</td><td>0</td><td>0</td></tr><tr><td>&quot;Richarlison&quot;</td><td>&quot;FW&quot;</td><td>&quot;Brazil&quot;</td><td>25</td><td>97</td><td>0</td><td>3</td><td>8</td><td>4</td><td>40</td><td>58</td><td>0</td><td>2</td></tr><tr><td>&quot;Álvaro Morata&quot;</td><td>&quot;FW&quot;</td><td>&quot;Spain&quot;</td><td>30</td><td>58</td><td>1</td><td>3</td><td>8</td><td>5</td><td>28</td><td>41</td><td>1</td><td>1</td></tr><tr><td>&quot;Aleksandar Mit…</td><td>&quot;FW&quot;</td><td>&quot;Serbia&quot;</td><td>28</td><td>95</td><td>1</td><td>2</td><td>10</td><td>3</td><td>54</td><td>69</td><td>0</td><td>0</td></tr><tr><td>&hellip;</td><td>&hellip;</td><td>&hellip;</td><td>&hellip;</td><td>&hellip;</td><td>&hellip;</td><td>&hellip;</td><td>&hellip;</td><td>&hellip;</td><td>&hellip;</td><td>&hellip;</td><td>&hellip;</td><td>&hellip;</td></tr><tr><td>&quot;Youssouf Fofan…</td><td>&quot;MF&quot;</td><td>&quot;France&quot;</td><td>23</td><td>138</td><td>2</td><td>0</td><td>4</td><td>0</td><td>96</td><td>112</td><td>0</td><td>5</td></tr><tr><td>&quot;Youssouf Sabal…</td><td>&quot;DF&quot;</td><td>&quot;Senegal&quot;</td><td>29</td><td>253</td><td>4</td><td>0</td><td>2</td><td>1</td><td>189</td><td>219</td><td>0</td><td>6</td></tr><tr><td>&quot;Youssoufa Mouk…</td><td>&quot;FW&quot;</td><td>&quot;Germany&quot;</td><td>18</td><td>2</td><td>0</td><td>0</td><td>0</td><td>0</td><td>1</td><td>2</td><td>0</td><td>0</td></tr><tr><td>&quot;Youstin Salas&quot;</td><td>&quot;DF&quot;</td><td>&quot;Costa Rica&quot;</td><td>26</td><td>27</td><td>1</td><td>0</td><td>0</td><td>0</td><td>15</td><td>19</td><td>0</td><td>1</td></tr><tr><td>&quot;Yuki Soma&quot;</td><td>&quot;FW&quot;</td><td>&quot;Japan&quot;</td><td>25</td><td>26</td><td>1</td><td>0</td><td>3</td><td>0</td><td>11</td><td>19</td><td>0</td><td>0</td></tr><tr><td>&quot;Yunus Musah&quot;</td><td>&quot;MF&quot;</td><td>&quot;United States&quot;</td><td>20</td><td>221</td><td>4</td><td>0</td><td>4</td><td>1</td><td>151</td><td>182</td><td>0</td><td>6</td></tr><tr><td>&quot;Yuto Nagatomo&quot;</td><td>&quot;MF&quot;</td><td>&quot;Japan&quot;</td><td>36</td><td>123</td><td>3</td><td>0</td><td>0</td><td>0</td><td>78</td><td>109</td><td>0</td><td>2</td></tr><tr><td>&quot;Álvaro Zamora&quot;</td><td>&quot;MF&quot;</td><td>&quot;Costa Rica&quot;</td><td>20</td><td>9</td><td>0</td><td>0</td><td>0</td><td>0</td><td>5</td><td>5</td><td>0</td><td>0</td></tr><tr><td>&quot;Ángel Correa&quot;</td><td>&quot;MF&quot;</td><td>&quot;Argentina&quot;</td><td>27</td><td>6</td><td>0</td><td>0</td><td>0</td><td>0</td><td>3</td><td>3</td><td>0</td><td>1</td></tr><tr><td>&quot;Ángelo Preciad…</td><td>&quot;DF&quot;</td><td>&quot;Ecuador&quot;</td><td>24</td><td>162</td><td>0</td><td>0</td><td>4</td><td>0</td><td>94</td><td>129</td><td>1</td><td>5</td></tr><tr><td>&quot;Éder Militão&quot;</td><td>&quot;DF&quot;</td><td>&quot;Brazil&quot;</td><td>24</td><td>306</td><td>0</td><td>0</td><td>5</td><td>1</td><td>251</td><td>277</td><td>0</td><td>6</td></tr><tr><td>&quot;Óscar Duarte&quot;</td><td>&quot;DF&quot;</td><td>&quot;Costa Rica&quot;</td><td>33</td><td>132</td><td>0</td><td>0</td><td>0</td><td>0</td><td>68</td><td>98</td><td>0</td><td>2</td></tr></tbody></table></div>"
      ],
      "text/plain": [
       "shape: (680, 13)\n",
       "┌───────────────┬──────────┬────────────┬─────┬───┬───────────────┬────────┬─────────┬─────────────┐\n",
       "│ player        ┆ position ┆ team       ┆ age ┆ … ┆ passes_comple ┆ passes ┆ assists ┆ tackles_won │\n",
       "│ ---           ┆ ---      ┆ ---        ┆ --- ┆   ┆ ted           ┆ ---    ┆ ---     ┆ ---         │\n",
       "│ str           ┆ str      ┆ str        ┆ i64 ┆   ┆ ---           ┆ i64    ┆ i64     ┆ i64         │\n",
       "│               ┆          ┆            ┆     ┆   ┆ i64           ┆        ┆         ┆             │\n",
       "╞═══════════════╪══════════╪════════════╪═════╪═══╪═══════════════╪════════╪═════════╪═════════════╡\n",
       "│ Kylian Mbappé ┆ FW       ┆ France     ┆ 23  ┆ … ┆ 173           ┆ 229    ┆ 2       ┆ 0           │\n",
       "│ Lionel Messi  ┆ FW       ┆ Argentina  ┆ 35  ┆ … ┆ 301           ┆ 372    ┆ 3       ┆ 3           │\n",
       "│ Julián        ┆ FW       ┆ Argentina  ┆ 22  ┆ … ┆ 93            ┆ 121    ┆ 0       ┆ 2           │\n",
       "│ Álvarez       ┆          ┆            ┆     ┆   ┆               ┆        ┆         ┆             │\n",
       "│ Olivier       ┆ FW       ┆ France     ┆ 36  ┆ … ┆ 48            ┆ 74     ┆ 0       ┆ 0           │\n",
       "│ Giroud        ┆          ┆            ┆     ┆   ┆               ┆        ┆         ┆             │\n",
       "│ …             ┆ …        ┆ …          ┆ …   ┆ … ┆ …             ┆ …      ┆ …       ┆ …           │\n",
       "│ Ángel Correa  ┆ MF       ┆ Argentina  ┆ 27  ┆ … ┆ 3             ┆ 3      ┆ 0       ┆ 1           │\n",
       "│ Ángelo        ┆ DF       ┆ Ecuador    ┆ 24  ┆ … ┆ 94            ┆ 129    ┆ 1       ┆ 5           │\n",
       "│ Preciado      ┆          ┆            ┆     ┆   ┆               ┆        ┆         ┆             │\n",
       "│ Éder Militão  ┆ DF       ┆ Brazil     ┆ 24  ┆ … ┆ 251           ┆ 277    ┆ 0       ┆ 6           │\n",
       "│ Óscar Duarte  ┆ DF       ┆ Costa Rica ┆ 33  ┆ … ┆ 68            ┆ 98     ┆ 0       ┆ 2           │\n",
       "└───────────────┴──────────┴────────────┴─────┴───┴───────────────┴────────┴─────────┴─────────────┘"
      ]
     },
     "execution_count": 18,
     "metadata": {},
     "output_type": "execute_result"
    }
   ],
   "source": [
    "#Display final results\n",
    "final_df"
   ]
  },
  {
   "cell_type": "code",
   "execution_count": 39,
   "id": "b6603a52",
   "metadata": {},
   "outputs": [],
   "source": [
    "#Create DataFame\n",
    "final_df = pl.DataFrame(final_df)\n",
    "#Save DataFrame as a csv file\n",
    "final_df.write_csv('FIFA_stats_cleaned.csv')\n",
    "\n"
   ]
  },
  {
   "cell_type": "code",
   "execution_count": null,
   "id": "a0581854",
   "metadata": {},
   "outputs": [],
   "source": []
  }
 ],
 "metadata": {
  "kernelspec": {
   "display_name": "Python 3 (ipykernel)",
   "language": "python",
   "name": "python3"
  },
  "language_info": {
   "codemirror_mode": {
    "name": "ipython",
    "version": 3
   },
   "file_extension": ".py",
   "mimetype": "text/x-python",
   "name": "python",
   "nbconvert_exporter": "python",
   "pygments_lexer": "ipython3",
   "version": "3.11.5"
  }
 },
 "nbformat": 4,
 "nbformat_minor": 5
}
